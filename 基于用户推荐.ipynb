{
 "cells": [
  {
   "cell_type": "code",
   "execution_count": 5,
   "metadata": {},
   "outputs": [],
   "source": [
    "import pandas as pd\n",
    "from math import sqrt"
   ]
  },
  {
   "cell_type": "code",
   "execution_count": 12,
   "metadata": {},
   "outputs": [],
   "source": [
    "def get_person_rating(data):\n",
    "    person_rating= {}\n",
    "# {1:[1,1,0,1],2:[4,0,2,1]} 1第一个用户 [1,1,0,1]\n",
    "# 对第一部电影\n",
    "    for i in range(1, 5):\n",
    "        person_i = data[data[\"user_id\"]==i][\"rating\"].values\n",
    "        person_rating[i] = person_i\n",
    "    print(person_rating)\n",
    "    return person_rating\n",
    "\n",
    "def distance(person_rating, index) :\n",
    "    it = person_rating[index]\n",
    "    me = person_rating[4]\n",
    "    sum =0\n",
    "    for i in range(0, 4):\n",
    "        sum = sum + pow((it[i]-me[i]),2)\n",
    "    return sqrt(sum)"
   ]
  },
  {
   "cell_type": "code",
   "execution_count": 14,
   "metadata": {},
   "outputs": [
    {
     "name": "stdout",
     "output_type": "stream",
     "text": [
      "{1: array([1, 1, 0, 1], dtype=int64), 2: array([4, 0, 2, 1], dtype=int64), 3: array([3, 4, 1, 4], dtype=int64), 4: array([5, 5, 0, 5], dtype=int64)}\n",
      "2.6457513110645907\n",
      "3\n"
     ]
    }
   ],
   "source": [
    "# 1、导入数据给这个程序使用\n",
    "data = pd.read_csv(\"C:\\\\Users\\\\ASUS\\\\Desktop\\\\movie.csv\")\n",
    "#print(data)\n",
    "#print(data[data[\"user_id\"]==1][\"rating\"])\n",
    "#print(data[data[\"user_id\"]==2][\"rating\"])\n",
    "# 2、 获取每一个人对电影的评分，要求{1:[1,1,0,1],2:[4,0,2,1]}\n",
    "person_rating = {}\n",
    "person_rating = get_person_rating(data)\n",
    "# 3、其他3个用户我的距离\n",
    "min = 6\n",
    "min_index = 0\n",
    "for i in range(1, 4):\n",
    "    distance_person_i = distance(person_rating, i)\n",
    "    if distance_person_i<min:\n",
    "        min = distance_person_i\n",
    "        min_index = i\n",
    "print(min)\n",
    "print(min_index)"
   ]
  },
  {
   "cell_type": "code",
   "execution_count": null,
   "metadata": {},
   "outputs": [],
   "source": []
  }
 ],
 "metadata": {
  "kernelspec": {
   "display_name": "Python 3",
   "language": "python",
   "name": "python3"
  },
  "language_info": {
   "codemirror_mode": {
    "name": "ipython",
    "version": 3
   },
   "file_extension": ".py",
   "mimetype": "text/x-python",
   "name": "python",
   "nbconvert_exporter": "python",
   "pygments_lexer": "ipython3",
   "version": "3.7.1"
  }
 },
 "nbformat": 4,
 "nbformat_minor": 2
}
