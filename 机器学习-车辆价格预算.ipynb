{
 "cells": [
  {
   "cell_type": "markdown",
   "metadata": {},
   "source": [
    "# 线性回归\n",
    "## 问题描述\n",
    "#### 已知：行驶里程（1000英里）对应的价格（1000美元）：\n",
    "| 行驶里程（1000英里） | 价格（1000美元） | \n",
    "| ---------------------| -----------------| \n",
    "| 90                   | 7.0              |\n",
    "| 59                   | 7.5              |\n",
    "| 66                   | 6.6              |\n",
    "| 87                   | 7.2              |\n",
    "| 90                   | 7.0              |\n",
    "| 106                  | 5.4              |\n",
    "\n",
    "\n",
    "\n",
    "\n",
    "#### 问题：如果有一辆本田雅阁2000款私家车的行驶里程数100000英里，预测该车的销售价格。"
   ]
  },
  {
   "cell_type": "markdown",
   "metadata": {},
   "source": [
    "## 引入相关的包"
   ]
  },
  {
   "cell_type": "code",
   "execution_count": 3,
   "metadata": {},
   "outputs": [],
   "source": [
    "import numpy as np\n",
    "import pandas as pd\n",
    "import matplotlib\n",
    "import matplotlib.pyplot as plt\n",
    "import sklearn"
   ]
  },
  {
   "cell_type": "markdown",
   "metadata": {},
   "source": [
    "## 加载数据"
   ]
  },
  {
   "cell_type": "code",
   "execution_count": 11,
   "metadata": {},
   "outputs": [
    {
     "name": "stdout",
     "output_type": "stream",
     "text": [
      "   LiChen  Money\n",
      "0      90    7.0\n",
      "1      59    7.5\n",
      "2      66    6.6\n",
      "3      87    7.2\n",
      "4      90    7.0\n",
      "5     106    5.4\n"
     ]
    }
   ],
   "source": [
    "data = pd.read_csv('C:\\\\Users\\\\ASUS\\\\Desktop\\\\pizza.csv')\n",
    "print(data)"
   ]
  },
  {
   "cell_type": "markdown",
   "metadata": {},
   "source": [
    "## 准备数据"
   ]
  },
  {
   "cell_type": "code",
   "execution_count": 13,
   "metadata": {},
   "outputs": [
    {
     "name": "stdout",
     "output_type": "stream",
     "text": [
      "[[ 90]\n",
      " [ 59]\n",
      " [ 66]\n",
      " [ 87]\n",
      " [ 90]\n",
      " [106]]\n",
      "[[7. ]\n",
      " [7.5]\n",
      " [6.6]\n",
      " [7.2]\n",
      " [7. ]\n",
      " [5.4]]\n"
     ]
    }
   ],
   "source": [
    "x = np.c_[data['LiChen']]\n",
    "y = np.c_[data['Money']]\n",
    "print(x)\n",
    "print(y)"
   ]
  },
  {
   "cell_type": "markdown",
   "metadata": {},
   "source": [
    "## 可视化数据"
   ]
  },
  {
   "cell_type": "code",
   "execution_count": 14,
   "metadata": {},
   "outputs": [
    {
     "data": {
      "image/png": "[encoded data removed]",
      "text/plain": [
       "<Figure size 432x288 with 1 Axes>"
      ]
     },
     "metadata": {
      "needs_background": "light"
     },
     "output_type": "display_data"
    }
   ],
   "source": [
    "data.plot(kind=\"scatter\",x=\"LiChen\",y=\"Money\")\n",
    "plt.show()"
   ]
  },
  {
   "cell_type": "markdown",
   "metadata": {},
   "source": [
    "## 选择一个模型进行训练"
   ]
  },
  {
   "cell_type": "code",
   "execution_count": 15,
   "metadata": {},
   "outputs": [
    {
     "name": "stdout",
     "output_type": "stream",
     "text": [
      "斜率：-0.027320954907161795,截距：9.050972590627762\n",
      "估计模型为：y=-0.027320954907161795x + 9.050972590627762y\n"
     ]
    }
   ],
   "source": [
    "from sklearn import linear_model\n",
    "lr_model = linear_model.LinearRegression()\n",
    "lr_model.fit(x,y)\n",
    "print(\"斜率：%s,截距：%s\"%(lr_model.coef_[0][0],lr_model.intercept_[0]))\n",
    "print(\"估计模型为：y=%sx + %sy\"%(lr_model.coef_[0][0],lr_model.intercept_[0]))"
   ]
  },
  {
   "cell_type": "markdown",
   "metadata": {},
   "source": [
    "## 画出拟合线"
   ]
  },
  {
   "cell_type": "code",
   "execution_count": 17,
   "metadata": {},
   "outputs": [
    {
     "data": {
      "image/png": "[encoded data removed]",
      "text/plain": [
       "<Figure size 432x288 with 1 Axes>"
      ]
     },
     "metadata": {
      "needs_background": "light"
     },
     "output_type": "display_data"
    }
   ],
   "source": [
    "data.plot(kind=\"scatter\",x=\"LiChen\",y=\"Money\")\n",
    "plt.plot(x,lr_model.predict(x.reshape(-1,1)),color='red',linewidth=4)\n",
    "plt.show()"
   ]
  },
  {
   "cell_type": "markdown",
   "metadata": {},
   "source": [
    "## 对于新的问题进行预测"
   ]
  },
  {
   "cell_type": "code",
   "execution_count": 22,
   "metadata": {},
   "outputs": [
    {
     "name": "stdout",
     "output_type": "stream",
     "text": [
      "[[6.3188771]]\n"
     ]
    }
   ],
   "source": [
    "X_new=[[100]]\n",
    "print(lr_model.predict(X_new))"
   ]
  },
  {
   "cell_type": "code",
   "execution_count": null,
   "metadata": {},
   "outputs": [],
   "source": []
  }
 ],
 "metadata": {
  "kernelspec": {
   "display_name": "Python 3",
   "language": "python",
   "name": "python3"
  },
  "language_info": {
   "codemirror_mode": {
    "name": "ipython",
    "version": 3
   },
   "file_extension": ".py",
   "mimetype": "text/x-python",
   "name": "python",
   "nbconvert_exporter": "python",
   "pygments_lexer": "ipython3",
   "version": "3.7.1"
  }
 },
 "nbformat": 4,
 "nbformat_minor": 2
}
