{
 "cells": [
  {
   "cell_type": "markdown",
   "metadata": {},
   "source": [
    "# 线性回归\n",
    "## 问题描述\n",
    "#### 已知：2018年学校附近10家披萨连锁店的销售收入情况如下：\n",
    "| [连锁店] | 学生人数（1000人） | 销售收入（1000元） |\n",
    "| -------- | ------------------ | ------------------ |\n",
    "| 1        | 2                  | 58                 |\n",
    "| 2        | 6                  | 105                |\n",
    "| 3        | 8                  | 88                 |\n",
    "| 4        | 8                  | 118                |\n",
    "| 5        | 12                 | 117                |\n",
    "| 6        | 16                 | 137                |\n",
    "|          | 20                 | 157                |\n",
    "| 8        | 20                 | 169                |\n",
    "|          | 22                 | 149                |\n",
    "| 10       | 26                 | 202                |\n",
    "\n",
    "\n",
    "\n",
    "#### 问题：第11连锁店（未统计收入数据），它位于有14000名学生校园附近，预测它的收入多少？"
   ]
  },
  {
   "cell_type": "markdown",
   "metadata": {},
   "source": [
    "## 引入相关的包"
   ]
  },
  {
   "cell_type": "code",
   "execution_count": 2,
   "metadata": {},
   "outputs": [],
   "source": [
    "import numpy as np\n",
    "import pandas as pd\n",
    "import matplotlib\n",
    "import matplotlib.pyplot as plt\n",
    "import sklearn"
   ]
  },
  {
   "cell_type": "markdown",
   "metadata": {},
   "source": [
    "## 加载数据"
   ]
  },
  {
   "cell_type": "code",
   "execution_count": 4,
   "metadata": {},
   "outputs": [
    {
     "name": "stdout",
     "output_type": "stream",
     "text": [
      "   student  sales\n",
      "0        2     58\n",
      "1        6    105\n",
      "2        8     88\n",
      "3        8    118\n",
      "4       12    117\n",
      "5       16    137\n",
      "6       20    157\n",
      "7       20    169\n",
      "8       22    149\n",
      "9       26    202\n"
     ]
    }
   ],
   "source": [
    "data = pd.read_csv('C:\\\\Users\\\\ASUS\\\\Desktop\\\\pizza.csv')\n",
    "print(data)"
   ]
  },
  {
   "cell_type": "markdown",
   "metadata": {},
   "source": [
    "## 准备数据"
   ]
  },
  {
   "cell_type": "code",
   "execution_count": 9,
   "metadata": {},
   "outputs": [],
   "source": [
    "x = np.c_[data['student']]\n",
    "y = np.c_[data['sales']]"
   ]
  },
  {
   "cell_type": "markdown",
   "metadata": {},
   "source": [
    "## 可视化数据"
   ]
  },
  {
   "cell_type": "code",
   "execution_count": 10,
   "metadata": {},
   "outputs": [
    {
     "data": {
      "image/png": "[encoded data removed]",
      "text/plain": [
       "<Figure size 432x288 with 1 Axes>"
      ]
     },
     "metadata": {
      "needs_background": "light"
     },
     "output_type": "display_data"
    }
   ],
   "source": [
    "data.plot(kind=\"scatter\",x=\"student\",y=\"sales\")\n",
    "plt.show()"
   ]
  },
  {
   "cell_type": "markdown",
   "metadata": {},
   "source": [
    "## 选择一个模型进行训练"
   ]
  },
  {
   "cell_type": "code",
   "execution_count": 17,
   "metadata": {},
   "outputs": [
    {
     "name": "stdout",
     "output_type": "stream",
     "text": [
      "斜率：5.0,截距：60.0\n",
      "估计模型为：y=5.0x + 60.0y\n"
     ]
    }
   ],
   "source": [
    "from sklearn import linear_model\n",
    "lr_model = linear_model.LinearRegression()\n",
    "lr_model.fit(x,y)\n",
    "print(\"斜率：%s,截距：%s\"%(lr_model.coef_[0][0],lr_model.intercept_[0]))\n",
    "print(\"估计模型为：y=%sx + %sy\"%(lr_model.coef_[0][0],lr_model.intercept_[0]))"
   ]
  },
  {
   "cell_type": "markdown",
   "metadata": {},
   "source": [
    "## 画出拟合线"
   ]
  },
  {
   "cell_type": "code",
   "execution_count": 18,
   "metadata": {},
   "outputs": [
    {
     "data": {
      "image/png": "[encoded data removed]",
      "text/plain": [
       "<Figure size 432x288 with 1 Axes>"
      ]
     },
     "metadata": {
      "needs_background": "light"
     },
     "output_type": "display_data"
    }
   ],
   "source": [
    "data.plot(kind=\"scatter\",x=\"student\",y=\"sales\")\n",
    "plt.plot(x,lr_model.predict(x.reshape(-1,1)),color='red',linewidth=4)\n",
    "plt.show()"
   ]
  },
  {
   "cell_type": "markdown",
   "metadata": {},
   "source": [
    "## 对于新的问题进行预测"
   ]
  },
  {
   "cell_type": "code",
   "execution_count": 19,
   "metadata": {},
   "outputs": [
    {
     "name": "stdout",
     "output_type": "stream",
     "text": [
      "[[130.]]\n"
     ]
    }
   ],
   "source": [
    "X_new=[[14]]\n",
    "print(lr_model.predict(X_new))"
   ]
  },
  {
   "cell_type": "code",
   "execution_count": null,
   "metadata": {},
   "outputs": [],
   "source": []
  }
 ],
 "metadata": {
  "kernelspec": {
   "display_name": "Python 3",
   "language": "python",
   "name": "python3"
  },
  "language_info": {
   "codemirror_mode": {
    "name": "ipython",
    "version": 3
   },
   "file_extension": ".py",
   "mimetype": "text/x-python",
   "name": "python",
   "nbconvert_exporter": "python",
   "pygments_lexer": "ipython3",
   "version": "3.7.1"
  }
 },
 "nbformat": 4,
 "nbformat_minor": 2
}
